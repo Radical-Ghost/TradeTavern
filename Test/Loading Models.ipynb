{
 "cells": [
  {
   "cell_type": "code",
   "execution_count": 7,
   "metadata": {},
   "outputs": [],
   "source": [
    "import numpy as np\n",
    "import pandas as pd\n",
    "import joblib\n",
    "import tensorflow as tf\n",
    "from tensorflow.keras.models import Sequential\n",
    "from tensorflow.keras.layers import LSTM, Dense, Dropout"
   ]
  },
  {
   "cell_type": "code",
   "execution_count": 10,
   "metadata": {},
   "outputs": [],
   "source": [
    "def build_model(units=50, dropout=0.2, learning_rate=0.001, num_features=33):\n",
    "    model = Sequential([\n",
    "        LSTM(units, return_sequences=True, input_shape=(30, num_features)),  \n",
    "        Dropout(dropout),\n",
    "        LSTM(units, return_sequences=False),\n",
    "        Dropout(dropout),\n",
    "        Dense(1)  \n",
    "    ])\n",
    "    model.compile(optimizer=tf.keras.optimizers.Adam(learning_rate=learning_rate), \n",
    "                  loss='mean_squared_error')\n",
    "    return model\n"
   ]
  },
  {
   "cell_type": "code",
   "execution_count": 11,
   "metadata": {},
   "outputs": [],
   "source": [
    "best_models = joblib.load('best_models.pkl')"
   ]
  },
  {
   "cell_type": "code",
   "execution_count": 12,
   "metadata": {},
   "outputs": [
    {
     "name": "stdout",
     "output_type": "stream",
     "text": [
      "Loaded models for stocks: dict_keys(['RELIANCE.NS', 'TCS.NS', 'HDFCBANK.NS', 'INFY.NS', 'ICICIBANK.NS', 'KOTAKBANK.NS', 'HINDUNILVR.NS', 'LT.NS', 'SBIN.NS', 'BHARTIARTL.NS', 'ITC.NS', 'BAJFINANCE.NS', 'AXISBANK.NS', 'HCLTECH.NS', 'MARUTI.NS', 'M&M.NS', 'ASIANPAINT.NS', 'NESTLEIND.NS', 'ULTRACEMCO.NS', 'SUNPHARMA.NS', 'TITAN.NS', 'DRREDDY.NS', 'WIPRO.NS', 'ADANIPORTS.NS', 'POWERGRID.NS', 'GRASIM.NS', 'NTPC.NS', 'ONGC.NS', 'INDUSINDBK.NS', 'BAJAJFINSV.NS'])\n"
     ]
    }
   ],
   "source": [
    "print(\"Loaded models for stocks:\", best_models.keys())"
   ]
  },
  {
   "cell_type": "code",
   "execution_count": 13,
   "metadata": {},
   "outputs": [
    {
     "name": "stdout",
     "output_type": "stream",
     "text": [
      "Best model hyperparameters: {'model': <function build_model at 0x0000028D2DC66670>, 'build_fn': None, 'warm_start': False, 'random_state': None, 'optimizer': 'rmsprop', 'loss': None, 'metrics': None, 'batch_size': 16, 'validation_batch_size': None, 'verbose': 0, 'callbacks': None, 'validation_split': 0.0, 'shuffle': True, 'run_eagerly': False, 'epochs': 50, 'model__dropout': 0.2, 'model__units': 30}\n"
     ]
    }
   ],
   "source": [
    "reliance_model = best_models.get('RELIANCE.NS')\n",
    "print(\"Best model hyperparameters:\", reliance_model.get_params())\n"
   ]
  },
  {
   "cell_type": "code",
   "execution_count": null,
   "metadata": {},
   "outputs": [
    {
     "name": "stdout",
     "output_type": "stream",
     "text": [
      "Predicted stock price: [-4.4916086]\n"
     ]
    }
   ],
   "source": [
    "X_new = np.random.rand(1, 30, 33)\n",
    "prediction = reliance_model.predict(X_new)\n",
    "print(\"Predicted stock price:\", prediction)"
   ]
  }
 ],
 "metadata": {
  "kernelspec": {
   "display_name": "ML38",
   "language": "python",
   "name": "python3"
  },
  "language_info": {
   "codemirror_mode": {
    "name": "ipython",
    "version": 3
   },
   "file_extension": ".py",
   "mimetype": "text/x-python",
   "name": "python",
   "nbconvert_exporter": "python",
   "pygments_lexer": "ipython3",
   "version": "3.8.20"
  }
 },
 "nbformat": 4,
 "nbformat_minor": 2
}
